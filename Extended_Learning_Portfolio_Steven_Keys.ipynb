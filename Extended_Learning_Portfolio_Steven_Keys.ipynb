{
  "nbformat": 4,
  "nbformat_minor": 0,
  "metadata": {
    "colab": {
      "name": "Extended_Learning_Portfolio_Steven_Keys.ipynb",
      "provenance": [],
      "authorship_tag": "ABX9TyMDEE3QQHDo5MevhdBX0yxc",
      "include_colab_link": true
    },
    "kernelspec": {
      "name": "python3",
      "display_name": "Python 3"
    },
    "language_info": {
      "name": "python"
    }
  },
  "cells": [
    {
      "cell_type": "markdown",
      "metadata": {
        "id": "view-in-github",
        "colab_type": "text"
      },
      "source": [
        "<a href=\"https://colab.research.google.com/github/steve-keys/ELP-SEM2-2021/blob/main/Extended_Learning_Portfolio_Steven_Keys.ipynb\" target=\"_parent\"><img src=\"https://colab.research.google.com/assets/colab-badge.svg\" alt=\"Open In Colab\"/></a>"
      ]
    },
    {
      "cell_type": "markdown",
      "metadata": {
        "id": "4NLWWwkvyO63"
      },
      "source": [
        "QUESTION 2 \n",
        "\n",
        "A comment is an explanation or annotation in the source code of a computer program.\n",
        "Well commented functions are helpful to other programmers to understand the code\n",
        "better. The following function has no comments. Add some comments that explain the\n",
        "purpose and actions of the code in the following method"
      ]
    },
    {
      "cell_type": "code",
      "metadata": {
        "id": "KT5c5_VZyBg_"
      },
      "source": [
        "# Here we are creating a function from scratch. This function has been designed to create a specific URL relevant to a supplied search term\n",
        "\n",
        "# First we name and define the function by using the def keyword, followed by the name we will call it and the arguments or values that will be used in the function which are placed in parenthess after the function's name\n",
        "\n",
        "def get_url(search_term, template):\n",
        "\n",
        "# the name of the function is get_url\n",
        "# the values required to be input to the function are here named \"search_term\" and \"template\"\n",
        "# a colon : is placed after the function header to indicate what follows is a block of code that forms the function\n",
        "\n",
        " search_term = search_term.replace(' ', '+')\n",
        "# this line of code will replace any spaces in the search term with a '+' sign\n",
        "\n",
        " url = template.format(search_term)\n",
        " url += '&page={}'\n",
        " # these lines of code will will create and format the url in such a way that it takes the search term and adds '&page={} \n",
        " # the search term will be contained between the {} curly bracket space holders\n",
        "\n",
        " return url\n",
        " # this code assigns a value to the url variable once formated by the previous lines of code"
      ],
      "execution_count": null,
      "outputs": []
    },
    {
      "cell_type": "markdown",
      "metadata": {
        "id": "PytdwfLJ3CYp"
      },
      "source": [
        "QUESTION 3\n",
        "\n",
        "In computer programming there are three kinds of errors: syntax errors, runtime errors,\n",
        "and logic errors. The code fragment below is meant to calculate a car’s fuel economy after\n",
        "reading in the distance travelled and amount of petrol used. The fuel economy is\n",
        "calculated by the following formula: kmPerLitre = kilometers / litres. The code fragment\n",
        "contains both syntax and logic errors. Identify and correct at least five errors in the\n",
        "following code. "
      ]
    },
    {
      "cell_type": "code",
      "metadata": {
        "id": "PFfnIFOW3TQV"
      },
      "source": [
        "def efficiency(dist, gas) \n",
        " return dist/gas\n",
        "km = input (\"How far did your car travel? (In kilometers?) )\n",
        "liters = input (\"How much gas did you use? (In liters)\"\n",
        "MPG = efficiency(dist_traveled, Liters) # these variables (dist_traveled and Liters) have not been defined\n",
        "print MPG # the print command needs brackets around what is being printed - i.e. print(MPG)"
      ],
      "execution_count": null,
      "outputs": []
    },
    {
      "cell_type": "code",
      "metadata": {
        "id": "th0xp09J3if-"
      },
      "source": [
        "# ANSWER\n",
        "\n",
        "def efficiency(dist, gas): # a colon needs to be added to signify the end of the function header and the start of the block of code to follow below it\n",
        "  dist = input(\"How far did your car travel? (In kilometers?)\") # this line needs to be indented with no space between input and the brackets and closed quote marks \" need to be added after the input prompt phrase \n",
        "  # dist has not been defined so we will replace km with dist\n",
        "  gas = input(\"How much gas did you use? (In liters)\") # this line needs to indented with no space between input and the following brackets and a closed bracket ) needs to be added after the end of the input prompt phrase\n",
        "\n",
        "# dist has not been defined \n",
        "# gas has not been defined \n",
        "# no proper arithmetic has been performed\n",
        "# the variables from the input prompts need to be converted to integers\n",
        "\n",
        "# return dist/gas\n",
        "\n",
        "# MPG = efficiency(dist_traveled, Liters) # litres is spelt with a capitol \"L\" but defined earlier with a lower case \"l\"\n",
        "# print MPG"
      ],
      "execution_count": null,
      "outputs": []
    },
    {
      "cell_type": "code",
      "metadata": {
        "id": "XweH-aJy_sBV",
        "colab": {
          "base_uri": "https://localhost:8080/"
        },
        "outputId": "7e56ce99-ce8a-4d43-e7ce-e14b2eecd218"
      },
      "source": [
        "km = input(\"How far did your car travel? (In kilometers?)\")\n",
        "liters = input (\"How much gas did you use? (In liters)\")\n",
        "\n",
        "dist = int(km)\n",
        "gas = int(liters)\n",
        "MPG = dist/gas\n",
        "print(MPG)"
      ],
      "execution_count": 14,
      "outputs": [
        {
          "output_type": "stream",
          "name": "stdout",
          "text": [
            "How far did your car travel? (In kilometers?)100\n",
            "How much gas did you use? (In liters)20\n",
            "5.0\n"
          ]
        }
      ]
    },
    {
      "cell_type": "code",
      "metadata": {
        "id": "bmXPU3cODx65"
      },
      "source": [
        "def efficiency(dist, gas):\n",
        "  km = input(\"How far did your car travel? (In kilometers?)\")\n",
        "  liters = input (\"How much gas did you use? (In liters)\")\n",
        "\n",
        "  dist = int(km)\n",
        "  gas = int(liters)\n",
        "  MPG = dist/gas\n",
        "  return MPG"
      ],
      "execution_count": 15,
      "outputs": []
    },
    {
      "cell_type": "code",
      "metadata": {
        "colab": {
          "base_uri": "https://localhost:8080/"
        },
        "id": "4rs7QFnmEKT5",
        "outputId": "2b24fbe4-974f-4430-aa34-9a488b55218c"
      },
      "source": [
        "efficiency(dist, gas)"
      ],
      "execution_count": 16,
      "outputs": [
        {
          "name": "stdout",
          "output_type": "stream",
          "text": [
            "How far did your car travel? (In kilometers?)100\n",
            "How much gas did you use? (In liters)12\n"
          ]
        },
        {
          "output_type": "execute_result",
          "data": {
            "text/plain": [
              "8.333333333333334"
            ]
          },
          "metadata": {},
          "execution_count": 16
        }
      ]
    },
    {
      "cell_type": "markdown",
      "metadata": {
        "id": "VpNgWUWOGEYq"
      },
      "source": [
        "QUESTION 4\n",
        "\n",
        "Write a program the reads in sales.csv and calculates the maximum, minimum and average\n",
        "profit for each country in the Australia and Oceania region. For each country in the\n",
        "Australia and Oceania region the plot their total profit. (Hint: read the CSV into a Pandas\n",
        "dataframe, create a new dataframe for the region, and use the new dataframe for the\n",
        "calculations and bar chart)"
      ]
    },
    {
      "cell_type": "markdown",
      "metadata": {
        "id": "tlRbj9NSLRbT"
      },
      "source": [
        "The problem solving steps will be:\n",
        "1. **Define the inputs**\n",
        "   * read the sales figures from the Sales CSV file - max, min, avge profit\n",
        "2. **Perform arithmetic**\n",
        "  * calculate the maximum, minimum and average profit for each country in the Australia and Oceania region\n",
        "\n",
        "3. **Display the outputs**\n",
        "  * print the maximum, minimum and average profit for each country in the Australia and Oceania region\n",
        "  * create and display a graph that plots the total profit for each country"
      ]
    },
    {
      "cell_type": "markdown",
      "metadata": {
        "id": "01opTMQNQAJ9"
      },
      "source": [
        "# First we install the packages and import the libraries we will need"
      ]
    },
    {
      "cell_type": "code",
      "metadata": {
        "colab": {
          "base_uri": "https://localhost:8080/"
        },
        "id": "C3m6x23WCU8-",
        "outputId": "b9092306-c011-408e-bece-faf36fc7168c"
      },
      "source": [
        "pip install pandas-datareader"
      ],
      "execution_count": 22,
      "outputs": [
        {
          "output_type": "stream",
          "name": "stdout",
          "text": [
            "Requirement already satisfied: pandas-datareader in /usr/local/lib/python3.7/dist-packages (0.9.0)\n",
            "Requirement already satisfied: requests>=2.19.0 in /usr/local/lib/python3.7/dist-packages (from pandas-datareader) (2.23.0)\n",
            "Requirement already satisfied: pandas>=0.23 in /usr/local/lib/python3.7/dist-packages (from pandas-datareader) (1.1.5)\n",
            "Requirement already satisfied: lxml in /usr/local/lib/python3.7/dist-packages (from pandas-datareader) (4.2.6)\n",
            "Requirement already satisfied: numpy>=1.15.4 in /usr/local/lib/python3.7/dist-packages (from pandas>=0.23->pandas-datareader) (1.19.5)\n",
            "Requirement already satisfied: pytz>=2017.2 in /usr/local/lib/python3.7/dist-packages (from pandas>=0.23->pandas-datareader) (2018.9)\n",
            "Requirement already satisfied: python-dateutil>=2.7.3 in /usr/local/lib/python3.7/dist-packages (from pandas>=0.23->pandas-datareader) (2.8.2)\n",
            "Requirement already satisfied: six>=1.5 in /usr/local/lib/python3.7/dist-packages (from python-dateutil>=2.7.3->pandas>=0.23->pandas-datareader) (1.15.0)\n",
            "Requirement already satisfied: urllib3!=1.25.0,!=1.25.1,<1.26,>=1.21.1 in /usr/local/lib/python3.7/dist-packages (from requests>=2.19.0->pandas-datareader) (1.24.3)\n",
            "Requirement already satisfied: chardet<4,>=3.0.2 in /usr/local/lib/python3.7/dist-packages (from requests>=2.19.0->pandas-datareader) (3.0.4)\n",
            "Requirement already satisfied: certifi>=2017.4.17 in /usr/local/lib/python3.7/dist-packages (from requests>=2.19.0->pandas-datareader) (2021.10.8)\n",
            "Requirement already satisfied: idna<3,>=2.5 in /usr/local/lib/python3.7/dist-packages (from requests>=2.19.0->pandas-datareader) (2.10)\n"
          ]
        }
      ]
    },
    {
      "cell_type": "code",
      "metadata": {
        "id": "65AKEsMMj7l2"
      },
      "source": [
        "import pandas as pd\n",
        "import matplotlib.pyplot as plt\n",
        "from pandas_datareader import data as pdr"
      ],
      "execution_count": 47,
      "outputs": []
    },
    {
      "cell_type": "code",
      "metadata": {
        "colab": {
          "base_uri": "https://localhost:8080/"
        },
        "id": "NeT59vUoQNpY",
        "outputId": "8e111cbc-0da6-4935-cedf-5f9c78660098"
      },
      "source": [
        "# next we need to provide a path for pandas to locate and read the CSV file. This is done by uploading our salescsv file into our Colab files directory at left, then use the kebab menu to copy the file path, and past that into the code as the filename\n",
        "\n",
        "filename = '/content/sales.csv'\n",
        "\n",
        "# this next function will now open the sales.csv file and read the lines from it\n",
        "lines = []\n",
        "with open(filename, 'r') as f:\n",
        "  for the_line in f:\n",
        "    lines.append(the_line)\n",
        "# and we can print out line by line to examine each line if we want to\n",
        "print(lines[0])\n",
        "print(lines[1])"
      ],
      "execution_count": 48,
      "outputs": [
        {
          "output_type": "stream",
          "name": "stdout",
          "text": [
            "Region,Country,Item Type,Sales Channel,Order Priority,Order Date,Order ID,Ship Date,Units Sold,Unit Price,Unit Cost,Total Revenue,Total Cost,Total Profit\n",
            "\n",
            "Australia and Oceania,Tuvalu,Baby Food,Offline,H,5/28/2010,669165933,6/27/2010,9925,255.28,159.42,2533654.00,1582243.50,951410.50\n",
            "\n"
          ]
        }
      ]
    },
    {
      "cell_type": "code",
      "metadata": {
        "colab": {
          "base_uri": "https://localhost:8080/"
        },
        "id": "mTlW1jr4Tdu_",
        "outputId": "1dc992f2-5af1-4808-9cd9-1b495d3c513e"
      },
      "source": [
        "# we can also manipulate and print a row, for example by splitting it on a comma..\n",
        "\n",
        "row = lines[1].split(',')\n",
        "print(row)"
      ],
      "execution_count": 49,
      "outputs": [
        {
          "output_type": "stream",
          "name": "stdout",
          "text": [
            "['Australia and Oceania', 'Tuvalu', 'Baby Food', 'Offline', 'H', '5/28/2010', '669165933', '6/27/2010', '9925', '255.28', '159.42', '2533654.00', '1582243.50', '951410.50\\n']\n"
          ]
        }
      ]
    },
    {
      "cell_type": "code",
      "metadata": {
        "colab": {
          "base_uri": "https://localhost:8080/"
        },
        "id": "4n9SHDkgVtPJ",
        "outputId": "919c81c8-0c4a-4fd9-de5a-09935b3d871c"
      },
      "source": [
        "# we need to import the csv module\n",
        "import csv\n",
        "# open the file and create a reader\n",
        "file = open(filename, newline='')\n",
        "reader = csv.reader(file)\n",
        "# we can read the header (column names) and ensuing rows as we specify\n",
        "header = next(reader)\n",
        "data = [row for row in reader]\n",
        "\n",
        "# we can display the output for us to view\n",
        "print(header)\n",
        "print(data)"
      ],
      "execution_count": 50,
      "outputs": [
        {
          "output_type": "stream",
          "name": "stdout",
          "text": [
            "['Region', 'Country', 'Item Type', 'Sales Channel', 'Order Priority', 'Order Date', 'Order ID', 'Ship Date', 'Units Sold', 'Unit Price', 'Unit Cost', 'Total Revenue', 'Total Cost', 'Total Profit']\n",
            "[['Australia and Oceania', 'Tuvalu', 'Baby Food', 'Offline', 'H', '5/28/2010', '669165933', '6/27/2010', '9925', '255.28', '159.42', '2533654.00', '1582243.50', '951410.50'], ['Central America and the Caribbean', 'Grenada', 'Cereal', 'Online', 'C', '8/22/2012', '963881480', '9/15/2012', '2804', '205.70', '117.11', '576782.80', '328376.44', '248406.36'], ['Europe', 'Russia', 'Office Supplies', 'Offline', 'L', '5/2/2014', '341417157', '5/8/2014', '1779', '651.21', '524.96', '1158502.59', '933903.84', '224598.75'], ['Sub-Saharan Africa', 'Sao Tome and Principe', 'Fruits', 'Online', 'C', '6/20/2014', '514321792', '7/5/2014', '8102', '9.33', '6.92', '75591.66', '56065.84', '19525.82'], ['Sub-Saharan Africa', 'Rwanda', 'Office Supplies', 'Offline', 'L', '2/1/2013', '115456712', '2/6/2013', '5062', '651.21', '524.96', '3296425.02', '2657347.52', '639077.50'], ['Australia and Oceania', 'Solomon Islands', 'Baby Food', 'Online', 'C', '2/4/2015', '547995746', '2/21/2015', '2974', '255.28', '159.42', '759202.72', '474115.08', '285087.64'], ['Sub-Saharan Africa', 'Angola', 'Household', 'Offline', 'M', '4/23/2011', '135425221', '4/27/2011', '4187', '668.27', '502.54', '2798046.49', '2104134.98', '693911.51'], ['Sub-Saharan Africa', 'Burkina Faso', 'Vegetables', 'Online', 'H', '7/17/2012', '871543967', '7/27/2012', '8082', '154.06', '90.93', '1245112.92', '734896.26', '510216.66'], ['Sub-Saharan Africa', 'Republic of the Congo', 'Personal Care', 'Offline', 'M', '7/14/2015', '770463311', '8/25/2015', '6070', '81.73', '56.67', '496101.10', '343986.90', '152114.20'], ['Sub-Saharan Africa', 'Senegal', 'Cereal', 'Online', 'H', '4/18/2014', '616607081', '5/30/2014', '6593', '205.70', '117.11', '1356180.10', '772106.23', '584073.87'], ['Asia', 'Kyrgyzstan', 'Vegetables', 'Online', 'H', '6/24/2011', '814711606', '7/12/2011', '124', '154.06', '90.93', '19103.44', '11275.32', '7828.12'], ['Sub-Saharan Africa', 'Cape Verde', 'Clothes', 'Offline', 'H', '8/2/2014', '939825713', '8/19/2014', '4168', '109.28', '35.84', '455479.04', '149381.12', '306097.92'], ['Asia', 'Bangladesh', 'Clothes', 'Online', 'L', '1/13/2017', '187310731', '3/1/2017', '8263', '109.28', '35.84', '902980.64', '296145.92', '606834.72'], ['Central America and the Caribbean', 'Honduras', 'Household', 'Offline', 'H', '2/8/2017', '522840487', '2/13/2017', '8974', '668.27', '502.54', '5997054.98', '4509793.96', '1487261.02'], ['Asia', 'Mongolia', 'Personal Care', 'Offline', 'C', '2/19/2014', '832401311', '2/23/2014', '4901', '81.73', '56.67', '400558.73', '277739.67', '122819.06'], ['Europe', 'Bulgaria', 'Clothes', 'Online', 'M', '4/23/2012', '972292029', '6/3/2012', '1673', '109.28', '35.84', '182825.44', '59960.32', '122865.12'], ['Asia', 'Sri Lanka', 'Cosmetics', 'Offline', 'M', '11/19/2016', '419123971', '12/18/2016', '6952', '437.20', '263.33', '3039414.40', '1830670.16', '1208744.24'], ['Sub-Saharan Africa', 'Cameroon', 'Beverages', 'Offline', 'C', '4/1/2015', '519820964', '4/18/2015', '5430', '47.45', '31.79', '257653.50', '172619.70', '85033.80'], ['Asia', 'Turkmenistan', 'Household', 'Offline', 'L', '12/30/2010', '441619336', '1/20/2011', '3830', '668.27', '502.54', '2559474.10', '1924728.20', '634745.90'], ['Australia and Oceania', 'East Timor', 'Meat', 'Online', 'L', '7/31/2012', '322067916', '9/11/2012', '5908', '421.89', '364.69', '2492526.12', '2154588.52', '337937.60'], ['Europe', 'Norway', 'Baby Food', 'Online', 'L', '5/14/2014', '819028031', '6/28/2014', '7450', '255.28', '159.42', '1901836.00', '1187679.00', '714157.00'], ['Europe', 'Portugal', 'Baby Food', 'Online', 'H', '7/31/2015', '860673511', '9/3/2015', '1273', '255.28', '159.42', '324971.44', '202941.66', '122029.78'], ['Central America and the Caribbean', 'Honduras', 'Snacks', 'Online', 'L', '6/30/2016', '795490682', '7/26/2016', '2225', '152.58', '97.44', '339490.50', '216804.00', '122686.50'], ['Australia and Oceania', 'New Zealand', 'Fruits', 'Online', 'H', '9/8/2014', '142278373', '10/4/2014', '2187', '9.33', '6.92', '20404.71', '15134.04', '5270.67'], ['Europe', 'Moldova ', 'Personal Care', 'Online', 'L', '5/7/2016', '740147912', '5/10/2016', '5070', '81.73', '56.67', '414371.10', '287316.90', '127054.20'], ['Europe', 'France', 'Cosmetics', 'Online', 'H', '5/22/2017', '898523128', '6/5/2017', '1815', '437.20', '263.33', '793518.00', '477943.95', '315574.05'], ['Australia and Oceania', 'Kiribati', 'Fruits', 'Online', 'M', '10/13/2014', '347140347', '11/10/2014', '5398', '9.33', '6.92', '50363.34', '37354.16', '13009.18'], ['Sub-Saharan Africa', 'Mali', 'Fruits', 'Online', 'L', '5/7/2010', '686048400', '5/10/2010', '5822', '9.33', '6.92', '54319.26', '40288.24', '14031.02'], ['Europe', 'Norway', 'Beverages', 'Offline', 'C', '7/18/2014', '435608613', '7/30/2014', '5124', '47.45', '31.79', '243133.80', '162891.96', '80241.84'], ['Sub-Saharan Africa', 'The Gambia', 'Household', 'Offline', 'L', '5/26/2012', '886494815', '6/9/2012', '2370', '668.27', '502.54', '1583799.90', '1191019.80', '392780.10'], ['Europe', 'Switzerland', 'Cosmetics', 'Offline', 'M', '9/17/2012', '249693334', '10/20/2012', '8661', '437.20', '263.33', '3786589.20', '2280701.13', '1505888.07'], ['Sub-Saharan Africa', 'South Sudan', 'Personal Care', 'Offline', 'C', '12/29/2013', '406502997', '1/28/2014', '2125', '81.73', '56.67', '173676.25', '120423.75', '53252.50'], ['Australia and Oceania', 'Australia', 'Office Supplies', 'Online', 'C', '10/27/2015', '158535134', '11/25/2015', '2924', '651.21', '524.96', '1904138.04', '1534983.04', '369155.00'], ['Asia', 'Myanmar', 'Household', 'Offline', 'H', '1/16/2015', '177713572', '3/1/2015', '8250', '668.27', '502.54', '5513227.50', '4145955.00', '1367272.50'], ['Sub-Saharan Africa', 'Djibouti', 'Snacks', 'Online', 'M', '2/25/2017', '756274640', '2/25/2017', '7327', '152.58', '97.44', '1117953.66', '713942.88', '404010.78'], ['Central America and the Caribbean', 'Costa Rica', 'Personal Care', 'Offline', 'L', '5/8/2017', '456767165', '5/21/2017', '6409', '81.73', '56.67', '523807.57', '363198.03', '160609.54'], ['Middle East and North Africa', 'Syria', 'Fruits', 'Online', 'L', '11/22/2011', '162052476', '12/3/2011', '3784', '9.33', '6.92', '35304.72', '26185.28', '9119.44'], ['Sub-Saharan Africa', 'The Gambia', 'Meat', 'Online', 'M', '1/14/2017', '825304400', '1/23/2017', '4767', '421.89', '364.69', '2011149.63', '1738477.23', '272672.40'], ['Asia', 'Brunei', 'Office Supplies', 'Online', 'L', '4/1/2012', '320009267', '5/8/2012', '6708', '651.21', '524.96', '4368316.68', '3521431.68', '846885.00'], ['Europe', 'Bulgaria', 'Office Supplies', 'Online', 'M', '2/16/2012', '189965903', '2/28/2012', '3987', '651.21', '524.96', '2596374.27', '2093015.52', '503358.75'], ['Sub-Saharan Africa', 'Niger', 'Personal Care', 'Online', 'H', '3/11/2017', '699285638', '3/28/2017', '3015', '81.73', '56.67', '246415.95', '170860.05', '75555.90'], ['Middle East and North Africa', 'Azerbaijan', 'Cosmetics', 'Online', 'M', '2/6/2010', '382392299', '2/25/2010', '7234', '437.20', '263.33', '3162704.80', '1904929.22', '1257775.58'], ['Sub-Saharan Africa', 'The Gambia', 'Cereal', 'Offline', 'H', '6/7/2012', '994022214', '6/8/2012', '2117', '205.70', '117.11', '435466.90', '247921.87', '187545.03'], ['Europe', 'Slovakia', 'Vegetables', 'Online', 'H', '10/6/2012', '759224212', '11/10/2012', '171', '154.06', '90.93', '26344.26', '15549.03', '10795.23'], ['Asia', 'Myanmar', 'Clothes', 'Online', 'H', '11/14/2015', '223359620', '11/18/2015', '5930', '109.28', '35.84', '648030.40', '212531.20', '435499.20'], ['Sub-Saharan Africa', 'Comoros', 'Cereal', 'Offline', 'H', '3/29/2016', '902102267', '4/29/2016', '962', '205.70', '117.11', '197883.40', '112659.82', '85223.58'], ['Europe', 'Iceland', 'Cosmetics', 'Online', 'C', '12/31/2016', '331438481', '12/31/2016', '8867', '437.20', '263.33', '3876652.40', '2334947.11', '1541705.29'], ['Europe', 'Switzerland', 'Personal Care', 'Online', 'M', '12/23/2010', '617667090', '1/31/2011', '273', '81.73', '56.67', '22312.29', '15470.91', '6841.38'], ['Europe', 'Macedonia', 'Clothes', 'Offline', 'C', '10/14/2014', '787399423', '11/14/2014', '7842', '109.28', '35.84', '856973.76', '281057.28', '575916.48'], ['Sub-Saharan Africa', 'Mauritania', 'Office Supplies', 'Offline', 'C', '1/11/2012', '837559306', '1/13/2012', '1266', '651.21', '524.96', '824431.86', '664599.36', '159832.50'], ['Europe', 'Albania', 'Clothes', 'Online', 'C', '2/2/2010', '385383069', '3/18/2010', '2269', '109.28', '35.84', '247956.32', '81320.96', '166635.36'], ['Sub-Saharan Africa', 'Lesotho', 'Fruits', 'Online', 'L', '8/18/2013', '918419539', '9/18/2013', '9606', '9.33', '6.92', '89623.98', '66473.52', '23150.46'], ['Middle East and North Africa', 'Saudi Arabia', 'Cereal', 'Online', 'M', '3/25/2013', '844530045', '3/28/2013', '4063', '205.70', '117.11', '835759.10', '475817.93', '359941.17'], ['Sub-Saharan Africa', 'Sierra Leone', 'Office Supplies', 'Offline', 'M', '11/26/2011', '441888415', '1/7/2012', '3457', '651.21', '524.96', '2251232.97', '1814786.72', '436446.25'], ['Sub-Saharan Africa', 'Sao Tome and Principe', 'Fruits', 'Offline', 'H', '9/17/2013', '508980977', '10/24/2013', '7637', '9.33', '6.92', '71253.21', '52848.04', '18405.17'], ['Sub-Saharan Africa', \"Cote d'Ivoire\", 'Clothes', 'Online', 'C', '6/8/2012', '114606559', '6/27/2012', '3482', '109.28', '35.84', '380512.96', '124794.88', '255718.08'], ['Australia and Oceania', 'Fiji', 'Clothes', 'Offline', 'C', '6/30/2010', '647876489', '8/1/2010', '9905', '109.28', '35.84', '1082418.40', '354995.20', '727423.20'], ['Europe', 'Austria', 'Cosmetics', 'Offline', 'H', '2/23/2015', '868214595', '3/2/2015', '2847', '437.20', '263.33', '1244708.40', '749700.51', '495007.89'], ['Europe', 'United Kingdom', 'Household', 'Online', 'L', '1/5/2012', '955357205', '2/14/2012', '282', '668.27', '502.54', '188452.14', '141716.28', '46735.86'], ['Sub-Saharan Africa', 'Djibouti', 'Cosmetics', 'Offline', 'H', '4/7/2014', '259353148', '4/19/2014', '7215', '437.20', '263.33', '3154398.00', '1899925.95', '1254472.05'], ['Australia and Oceania', 'Australia', 'Cereal', 'Offline', 'H', '6/9/2013', '450563752', '7/2/2013', '682', '205.70', '117.11', '140287.40', '79869.02', '60418.38'], ['Europe', 'San Marino', 'Baby Food', 'Online', 'L', '6/26/2013', '569662845', '7/1/2013', '4750', '255.28', '159.42', '1212580.00', '757245.00', '455335.00'], ['Sub-Saharan Africa', 'Cameroon', 'Office Supplies', 'Online', 'M', '11/7/2011', '177636754', '11/15/2011', '5518', '651.21', '524.96', '3593376.78', '2896729.28', '696647.50'], ['Middle East and North Africa', 'Libya', 'Clothes', 'Offline', 'H', '10/30/2010', '705784308', '11/17/2010', '6116', '109.28', '35.84', '668356.48', '219197.44', '449159.04'], ['Central America and the Caribbean', 'Haiti', 'Cosmetics', 'Offline', 'H', '10/13/2013', '505716836', '11/16/2013', '1705', '437.20', '263.33', '745426.00', '448977.65', '296448.35'], ['Sub-Saharan Africa', 'Rwanda', 'Cosmetics', 'Offline', 'H', '10/11/2013', '699358165', '11/25/2013', '4477', '437.20', '263.33', '1957344.40', '1178928.41', '778415.99'], ['Sub-Saharan Africa', 'Gabon', 'Personal Care', 'Offline', 'L', '7/8/2012', '228944623', '7/9/2012', '8656', '81.73', '56.67', '707454.88', '490535.52', '216919.36'], ['Central America and the Caribbean', 'Belize', 'Clothes', 'Offline', 'M', '7/25/2016', '807025039', '9/7/2016', '5498', '109.28', '35.84', '600821.44', '197048.32', '403773.12'], ['Europe', 'Lithuania', 'Office Supplies', 'Offline', 'H', '10/24/2010', '166460740', '11/17/2010', '8287', '651.21', '524.96', '5396577.27', '4350343.52', '1046233.75'], ['Sub-Saharan Africa', 'Madagascar', 'Clothes', 'Offline', 'L', '4/25/2015', '610425555', '5/28/2015', '7342', '109.28', '35.84', '802333.76', '263137.28', '539196.48'], ['Asia', 'Turkmenistan', 'Office Supplies', 'Online', 'M', '4/23/2013', '462405812', '5/20/2013', '5010', '651.21', '524.96', '3262562.10', '2630049.60', '632512.50'], ['Middle East and North Africa', 'Libya', 'Fruits', 'Online', 'L', '8/14/2015', '816200339', '9/30/2015', '673', '9.33', '6.92', '6279.09', '4657.16', '1621.93'], ['Sub-Saharan Africa', 'Democratic Republic of the Congo', 'Beverages', 'Online', 'C', '5/26/2011', '585920464', '7/15/2011', '5741', '47.45', '31.79', '272410.45', '182506.39', '89904.06'], ['Sub-Saharan Africa', 'Djibouti', 'Cereal', 'Online', 'H', '5/20/2017', '555990016', '6/17/2017', '8656', '205.70', '117.11', '1780539.20', '1013704.16', '766835.04'], ['Middle East and North Africa', 'Pakistan', 'Cosmetics', 'Offline', 'L', '7/5/2013', '231145322', '8/16/2013', '9892', '437.20', '263.33', '4324782.40', '2604860.36', '1719922.04'], ['North America', 'Mexico', 'Household', 'Offline', 'C', '11/6/2014', '986435210', '12/12/2014', '6954', '668.27', '502.54', '4647149.58', '3494663.16', '1152486.42'], ['Australia and Oceania', 'Federated States of Micronesia', 'Beverages', 'Online', 'C', '10/28/2014', '217221009', '11/15/2014', '9379', '47.45', '31.79', '445033.55', '298158.41', '146875.14'], ['Asia', 'Laos', 'Vegetables', 'Offline', 'C', '9/15/2011', '789176547', '10/23/2011', '3732', '154.06', '90.93', '574951.92', '339350.76', '235601.16'], ['Europe', 'Monaco', 'Baby Food', 'Offline', 'H', '5/29/2012', '688288152', '6/2/2012', '8614', '255.28', '159.42', '2198981.92', '1373243.88', '825738.04'], ['Australia and Oceania', 'Samoa ', 'Cosmetics', 'Online', 'H', '7/20/2013', '670854651', '8/7/2013', '9654', '437.20', '263.33', '4220728.80', '2542187.82', '1678540.98'], ['Europe', 'Spain', 'Household', 'Offline', 'L', '10/21/2012', '213487374', '11/30/2012', '4513', '668.27', '502.54', '3015902.51', '2267963.02', '747939.49'], ['Middle East and North Africa', 'Lebanon', 'Clothes', 'Online', 'L', '9/18/2012', '663110148', '10/8/2012', '7884', '109.28', '35.84', '861563.52', '282562.56', '579000.96'], ['Middle East and North Africa', 'Iran', 'Cosmetics', 'Online', 'H', '11/15/2016', '286959302', '12/8/2016', '6489', '437.20', '263.33', '2836990.80', '1708748.37', '1128242.43'], ['Sub-Saharan Africa', 'Zambia', 'Snacks', 'Online', 'L', '1/4/2011', '122583663', '1/5/2011', '4085', '152.58', '97.44', '623289.30', '398042.40', '225246.90'], ['Sub-Saharan Africa', 'Kenya', 'Vegetables', 'Online', 'L', '3/18/2012', '827844560', '4/7/2012', '6457', '154.06', '90.93', '994765.42', '587135.01', '407630.41'], ['North America', 'Mexico', 'Personal Care', 'Offline', 'L', '2/17/2012', '430915820', '3/20/2012', '6422', '81.73', '56.67', '524870.06', '363934.74', '160935.32'], ['Sub-Saharan Africa', 'Sao Tome and Principe', 'Beverages', 'Offline', 'C', '1/16/2011', '180283772', '1/21/2011', '8829', '47.45', '31.79', '418936.05', '280673.91', '138262.14'], ['Sub-Saharan Africa', 'The Gambia', 'Baby Food', 'Offline', 'M', '2/3/2014', '494747245', '3/20/2014', '5559', '255.28', '159.42', '1419101.52', '886215.78', '532885.74'], ['Middle East and North Africa', 'Kuwait', 'Fruits', 'Online', 'M', '4/30/2012', '513417565', '5/18/2012', '522', '9.33', '6.92', '4870.26', '3612.24', '1258.02'], ['Europe', 'Slovenia', 'Beverages', 'Offline', 'C', '10/23/2016', '345718562', '11/25/2016', '4660', '47.45', '31.79', '221117.00', '148141.40', '72975.60'], ['Sub-Saharan Africa', 'Sierra Leone', 'Office Supplies', 'Offline', 'H', '12/6/2016', '621386563', '12/14/2016', '948', '651.21', '524.96', '617347.08', '497662.08', '119685.00'], ['Australia and Oceania', 'Australia', 'Beverages', 'Offline', 'H', '7/7/2014', '240470397', '7/11/2014', '9389', '47.45', '31.79', '445508.05', '298476.31', '147031.74'], ['Middle East and North Africa', 'Azerbaijan', 'Office Supplies', 'Online', 'M', '6/13/2012', '423331391', '7/24/2012', '2021', '651.21', '524.96', '1316095.41', '1060944.16', '255151.25'], ['Europe', 'Romania', 'Cosmetics', 'Online', 'H', '11/26/2010', '660643374', '12/25/2010', '7910', '437.20', '263.33', '3458252.00', '2082940.30', '1375311.70'], ['Central America and the Caribbean', 'Nicaragua', 'Beverages', 'Offline', 'C', '2/8/2011', '963392674', '3/21/2011', '8156', '47.45', '31.79', '387002.20', '259279.24', '127722.96'], ['Sub-Saharan Africa', 'Mali', 'Clothes', 'Online', 'M', '7/26/2011', '512878119', '9/3/2011', '888', '109.28', '35.84', '97040.64', '31825.92', '65214.72'], ['Asia', 'Malaysia', 'Fruits', 'Offline', 'L', '11/11/2011', '810711038', '12/28/2011', '6267', '9.33', '6.92', '58471.11', '43367.64', '15103.47'], ['Sub-Saharan Africa', 'Sierra Leone', 'Vegetables', 'Offline', 'C', '6/1/2016', '728815257', '6/29/2016', '1485', '154.06', '90.93', '228779.10', '135031.05', '93748.05'], ['North America', 'Mexico', 'Personal Care', 'Offline', 'M', '7/30/2015', '559427106', '8/8/2015', '5767', '81.73', '56.67', '471336.91', '326815.89', '144521.02'], ['Sub-Saharan Africa', 'Mozambique', 'Household', 'Offline', 'L', '2/10/2012', '665095412', '2/15/2012', '5367', '668.27', '502.54', '3586605.09', '2697132.18', '889472.91']]\n"
          ]
        }
      ]
    },
    {
      "cell_type": "code",
      "metadata": {
        "id": "BiVNb7bdWVv7"
      },
      "source": [
        "data = []\n",
        "for row in reader:\n",
        "  # a row is [region, Country, etc. \n",
        "  # we are interested in country and profit (min, max, average)\n",
        "  country = row[1]\n",
        "  total_profit = float(row[13])\n",
        "  data.append([country, total_profit])\n",
        "\n",
        "  print(data[0])\n"
      ],
      "execution_count": 51,
      "outputs": []
    },
    {
      "cell_type": "code",
      "metadata": {
        "colab": {
          "base_uri": "https://localhost:8080/",
          "height": 289
        },
        "id": "QXbbe_oVaTBc",
        "outputId": "d303e1d5-5c01-4094-8965-fb9544555c39"
      },
      "source": [
        "# we can use the pandas csv module to read and display the entire csv file\n",
        "data = pd.read_csv(filename)\n",
        "data.head()\n",
        "# head means the first 5 rows of data"
      ],
      "execution_count": 52,
      "outputs": [
        {
          "output_type": "execute_result",
          "data": {
            "text/html": [
              "<div>\n",
              "<style scoped>\n",
              "    .dataframe tbody tr th:only-of-type {\n",
              "        vertical-align: middle;\n",
              "    }\n",
              "\n",
              "    .dataframe tbody tr th {\n",
              "        vertical-align: top;\n",
              "    }\n",
              "\n",
              "    .dataframe thead th {\n",
              "        text-align: right;\n",
              "    }\n",
              "</style>\n",
              "<table border=\"1\" class=\"dataframe\">\n",
              "  <thead>\n",
              "    <tr style=\"text-align: right;\">\n",
              "      <th></th>\n",
              "      <th>Region</th>\n",
              "      <th>Country</th>\n",
              "      <th>Item Type</th>\n",
              "      <th>Sales Channel</th>\n",
              "      <th>Order Priority</th>\n",
              "      <th>Order Date</th>\n",
              "      <th>Order ID</th>\n",
              "      <th>Ship Date</th>\n",
              "      <th>Units Sold</th>\n",
              "      <th>Unit Price</th>\n",
              "      <th>Unit Cost</th>\n",
              "      <th>Total Revenue</th>\n",
              "      <th>Total Cost</th>\n",
              "      <th>Total Profit</th>\n",
              "    </tr>\n",
              "  </thead>\n",
              "  <tbody>\n",
              "    <tr>\n",
              "      <th>0</th>\n",
              "      <td>Australia and Oceania</td>\n",
              "      <td>Tuvalu</td>\n",
              "      <td>Baby Food</td>\n",
              "      <td>Offline</td>\n",
              "      <td>H</td>\n",
              "      <td>5/28/2010</td>\n",
              "      <td>669165933</td>\n",
              "      <td>6/27/2010</td>\n",
              "      <td>9925</td>\n",
              "      <td>255.28</td>\n",
              "      <td>159.42</td>\n",
              "      <td>2533654.00</td>\n",
              "      <td>1582243.50</td>\n",
              "      <td>951410.50</td>\n",
              "    </tr>\n",
              "    <tr>\n",
              "      <th>1</th>\n",
              "      <td>Central America and the Caribbean</td>\n",
              "      <td>Grenada</td>\n",
              "      <td>Cereal</td>\n",
              "      <td>Online</td>\n",
              "      <td>C</td>\n",
              "      <td>8/22/2012</td>\n",
              "      <td>963881480</td>\n",
              "      <td>9/15/2012</td>\n",
              "      <td>2804</td>\n",
              "      <td>205.70</td>\n",
              "      <td>117.11</td>\n",
              "      <td>576782.80</td>\n",
              "      <td>328376.44</td>\n",
              "      <td>248406.36</td>\n",
              "    </tr>\n",
              "    <tr>\n",
              "      <th>2</th>\n",
              "      <td>Europe</td>\n",
              "      <td>Russia</td>\n",
              "      <td>Office Supplies</td>\n",
              "      <td>Offline</td>\n",
              "      <td>L</td>\n",
              "      <td>5/2/2014</td>\n",
              "      <td>341417157</td>\n",
              "      <td>5/8/2014</td>\n",
              "      <td>1779</td>\n",
              "      <td>651.21</td>\n",
              "      <td>524.96</td>\n",
              "      <td>1158502.59</td>\n",
              "      <td>933903.84</td>\n",
              "      <td>224598.75</td>\n",
              "    </tr>\n",
              "    <tr>\n",
              "      <th>3</th>\n",
              "      <td>Sub-Saharan Africa</td>\n",
              "      <td>Sao Tome and Principe</td>\n",
              "      <td>Fruits</td>\n",
              "      <td>Online</td>\n",
              "      <td>C</td>\n",
              "      <td>6/20/2014</td>\n",
              "      <td>514321792</td>\n",
              "      <td>7/5/2014</td>\n",
              "      <td>8102</td>\n",
              "      <td>9.33</td>\n",
              "      <td>6.92</td>\n",
              "      <td>75591.66</td>\n",
              "      <td>56065.84</td>\n",
              "      <td>19525.82</td>\n",
              "    </tr>\n",
              "    <tr>\n",
              "      <th>4</th>\n",
              "      <td>Sub-Saharan Africa</td>\n",
              "      <td>Rwanda</td>\n",
              "      <td>Office Supplies</td>\n",
              "      <td>Offline</td>\n",
              "      <td>L</td>\n",
              "      <td>2/1/2013</td>\n",
              "      <td>115456712</td>\n",
              "      <td>2/6/2013</td>\n",
              "      <td>5062</td>\n",
              "      <td>651.21</td>\n",
              "      <td>524.96</td>\n",
              "      <td>3296425.02</td>\n",
              "      <td>2657347.52</td>\n",
              "      <td>639077.50</td>\n",
              "    </tr>\n",
              "  </tbody>\n",
              "</table>\n",
              "</div>"
            ],
            "text/plain": [
              "                              Region  ... Total Profit\n",
              "0              Australia and Oceania  ...    951410.50\n",
              "1  Central America and the Caribbean  ...    248406.36\n",
              "2                             Europe  ...    224598.75\n",
              "3                 Sub-Saharan Africa  ...     19525.82\n",
              "4                 Sub-Saharan Africa  ...    639077.50\n",
              "\n",
              "[5 rows x 14 columns]"
            ]
          },
          "metadata": {},
          "execution_count": 52
        }
      ]
    },
    {
      "cell_type": "code",
      "metadata": {
        "colab": {
          "base_uri": "https://localhost:8080/",
          "height": 374
        },
        "id": "jbxUwKrvdoyB",
        "outputId": "d9c9c0f1-cebd-4aa8-fffd-10aaec754e26"
      },
      "source": [
        "# we can plot a graph\n",
        "data['Country'].plot()\n",
        "plt.xlabel(\"Country\")\n",
        "plt.ylabel(\"Total Profit\")\n",
        "plt.title(\"Total Profit for Australia and Oceania Region\")\n",
        "\n",
        "# this produces an error message which I don't understand"
      ],
      "execution_count": 55,
      "outputs": [
        {
          "output_type": "error",
          "ename": "TypeError",
          "evalue": "ignored",
          "traceback": [
            "\u001b[0;31m---------------------------------------------------------------------------\u001b[0m",
            "\u001b[0;31mTypeError\u001b[0m                                 Traceback (most recent call last)",
            "\u001b[0;32m<ipython-input-55-e977ead55ccc>\u001b[0m in \u001b[0;36m<module>\u001b[0;34m()\u001b[0m\n\u001b[1;32m      1\u001b[0m \u001b[0;31m# we can plot a graph\u001b[0m\u001b[0;34m\u001b[0m\u001b[0;34m\u001b[0m\u001b[0;34m\u001b[0m\u001b[0m\n\u001b[0;32m----> 2\u001b[0;31m \u001b[0mdata\u001b[0m\u001b[0;34m[\u001b[0m\u001b[0;34m'Country'\u001b[0m\u001b[0;34m]\u001b[0m\u001b[0;34m.\u001b[0m\u001b[0mplot\u001b[0m\u001b[0;34m(\u001b[0m\u001b[0;34m)\u001b[0m\u001b[0;34m\u001b[0m\u001b[0;34m\u001b[0m\u001b[0m\n\u001b[0m\u001b[1;32m      3\u001b[0m \u001b[0mplt\u001b[0m\u001b[0;34m.\u001b[0m\u001b[0mxlabel\u001b[0m\u001b[0;34m(\u001b[0m\u001b[0;34m\"Country\"\u001b[0m\u001b[0;34m)\u001b[0m\u001b[0;34m\u001b[0m\u001b[0;34m\u001b[0m\u001b[0m\n\u001b[1;32m      4\u001b[0m \u001b[0mplt\u001b[0m\u001b[0;34m.\u001b[0m\u001b[0mylabel\u001b[0m\u001b[0;34m(\u001b[0m\u001b[0;34m\"Total Profit\"\u001b[0m\u001b[0;34m)\u001b[0m\u001b[0;34m\u001b[0m\u001b[0;34m\u001b[0m\u001b[0m\n\u001b[1;32m      5\u001b[0m \u001b[0mplt\u001b[0m\u001b[0;34m.\u001b[0m\u001b[0mtitle\u001b[0m\u001b[0;34m(\u001b[0m\u001b[0;34m\"Total Profit for Australia and Oceania Region\"\u001b[0m\u001b[0;34m)\u001b[0m\u001b[0;34m\u001b[0m\u001b[0;34m\u001b[0m\u001b[0m\n",
            "\u001b[0;32m/usr/local/lib/python3.7/dist-packages/pandas/plotting/_core.py\u001b[0m in \u001b[0;36m__call__\u001b[0;34m(self, *args, **kwargs)\u001b[0m\n\u001b[1;32m    947\u001b[0m                     \u001b[0mdata\u001b[0m\u001b[0;34m.\u001b[0m\u001b[0mcolumns\u001b[0m \u001b[0;34m=\u001b[0m \u001b[0mlabel_name\u001b[0m\u001b[0;34m\u001b[0m\u001b[0;34m\u001b[0m\u001b[0m\n\u001b[1;32m    948\u001b[0m \u001b[0;34m\u001b[0m\u001b[0m\n\u001b[0;32m--> 949\u001b[0;31m         \u001b[0;32mreturn\u001b[0m \u001b[0mplot_backend\u001b[0m\u001b[0;34m.\u001b[0m\u001b[0mplot\u001b[0m\u001b[0;34m(\u001b[0m\u001b[0mdata\u001b[0m\u001b[0;34m,\u001b[0m \u001b[0mkind\u001b[0m\u001b[0;34m=\u001b[0m\u001b[0mkind\u001b[0m\u001b[0;34m,\u001b[0m \u001b[0;34m**\u001b[0m\u001b[0mkwargs\u001b[0m\u001b[0;34m)\u001b[0m\u001b[0;34m\u001b[0m\u001b[0;34m\u001b[0m\u001b[0m\n\u001b[0m\u001b[1;32m    950\u001b[0m \u001b[0;34m\u001b[0m\u001b[0m\n\u001b[1;32m    951\u001b[0m     \u001b[0m__call__\u001b[0m\u001b[0;34m.\u001b[0m\u001b[0m__doc__\u001b[0m \u001b[0;34m=\u001b[0m \u001b[0m__doc__\u001b[0m\u001b[0;34m\u001b[0m\u001b[0;34m\u001b[0m\u001b[0m\n",
            "\u001b[0;32m/usr/local/lib/python3.7/dist-packages/pandas/plotting/_matplotlib/__init__.py\u001b[0m in \u001b[0;36mplot\u001b[0;34m(data, kind, **kwargs)\u001b[0m\n\u001b[1;32m     59\u001b[0m             \u001b[0mkwargs\u001b[0m\u001b[0;34m[\u001b[0m\u001b[0;34m\"ax\"\u001b[0m\u001b[0;34m]\u001b[0m \u001b[0;34m=\u001b[0m \u001b[0mgetattr\u001b[0m\u001b[0;34m(\u001b[0m\u001b[0max\u001b[0m\u001b[0;34m,\u001b[0m \u001b[0;34m\"left_ax\"\u001b[0m\u001b[0;34m,\u001b[0m \u001b[0max\u001b[0m\u001b[0;34m)\u001b[0m\u001b[0;34m\u001b[0m\u001b[0;34m\u001b[0m\u001b[0m\n\u001b[1;32m     60\u001b[0m     \u001b[0mplot_obj\u001b[0m \u001b[0;34m=\u001b[0m \u001b[0mPLOT_CLASSES\u001b[0m\u001b[0;34m[\u001b[0m\u001b[0mkind\u001b[0m\u001b[0;34m]\u001b[0m\u001b[0;34m(\u001b[0m\u001b[0mdata\u001b[0m\u001b[0;34m,\u001b[0m \u001b[0;34m**\u001b[0m\u001b[0mkwargs\u001b[0m\u001b[0;34m)\u001b[0m\u001b[0;34m\u001b[0m\u001b[0;34m\u001b[0m\u001b[0m\n\u001b[0;32m---> 61\u001b[0;31m     \u001b[0mplot_obj\u001b[0m\u001b[0;34m.\u001b[0m\u001b[0mgenerate\u001b[0m\u001b[0;34m(\u001b[0m\u001b[0;34m)\u001b[0m\u001b[0;34m\u001b[0m\u001b[0;34m\u001b[0m\u001b[0m\n\u001b[0m\u001b[1;32m     62\u001b[0m     \u001b[0mplot_obj\u001b[0m\u001b[0;34m.\u001b[0m\u001b[0mdraw\u001b[0m\u001b[0;34m(\u001b[0m\u001b[0;34m)\u001b[0m\u001b[0;34m\u001b[0m\u001b[0;34m\u001b[0m\u001b[0m\n\u001b[1;32m     63\u001b[0m     \u001b[0;32mreturn\u001b[0m \u001b[0mplot_obj\u001b[0m\u001b[0;34m.\u001b[0m\u001b[0mresult\u001b[0m\u001b[0;34m\u001b[0m\u001b[0;34m\u001b[0m\u001b[0m\n",
            "\u001b[0;32m/usr/local/lib/python3.7/dist-packages/pandas/plotting/_matplotlib/core.py\u001b[0m in \u001b[0;36mgenerate\u001b[0;34m(self)\u001b[0m\n\u001b[1;32m    267\u001b[0m     \u001b[0;32mdef\u001b[0m \u001b[0mgenerate\u001b[0m\u001b[0;34m(\u001b[0m\u001b[0mself\u001b[0m\u001b[0;34m)\u001b[0m\u001b[0;34m:\u001b[0m\u001b[0;34m\u001b[0m\u001b[0;34m\u001b[0m\u001b[0m\n\u001b[1;32m    268\u001b[0m         \u001b[0mself\u001b[0m\u001b[0;34m.\u001b[0m\u001b[0m_args_adjust\u001b[0m\u001b[0;34m(\u001b[0m\u001b[0;34m)\u001b[0m\u001b[0;34m\u001b[0m\u001b[0;34m\u001b[0m\u001b[0m\n\u001b[0;32m--> 269\u001b[0;31m         \u001b[0mself\u001b[0m\u001b[0;34m.\u001b[0m\u001b[0m_compute_plot_data\u001b[0m\u001b[0;34m(\u001b[0m\u001b[0;34m)\u001b[0m\u001b[0;34m\u001b[0m\u001b[0;34m\u001b[0m\u001b[0m\n\u001b[0m\u001b[1;32m    270\u001b[0m         \u001b[0mself\u001b[0m\u001b[0;34m.\u001b[0m\u001b[0m_setup_subplots\u001b[0m\u001b[0;34m(\u001b[0m\u001b[0;34m)\u001b[0m\u001b[0;34m\u001b[0m\u001b[0;34m\u001b[0m\u001b[0m\n\u001b[1;32m    271\u001b[0m         \u001b[0mself\u001b[0m\u001b[0;34m.\u001b[0m\u001b[0m_make_plot\u001b[0m\u001b[0;34m(\u001b[0m\u001b[0;34m)\u001b[0m\u001b[0;34m\u001b[0m\u001b[0;34m\u001b[0m\u001b[0m\n",
            "\u001b[0;32m/usr/local/lib/python3.7/dist-packages/pandas/plotting/_matplotlib/core.py\u001b[0m in \u001b[0;36m_compute_plot_data\u001b[0;34m(self)\u001b[0m\n\u001b[1;32m    416\u001b[0m         \u001b[0;31m# no non-numeric frames or series allowed\u001b[0m\u001b[0;34m\u001b[0m\u001b[0;34m\u001b[0m\u001b[0;34m\u001b[0m\u001b[0m\n\u001b[1;32m    417\u001b[0m         \u001b[0;32mif\u001b[0m \u001b[0mis_empty\u001b[0m\u001b[0;34m:\u001b[0m\u001b[0;34m\u001b[0m\u001b[0;34m\u001b[0m\u001b[0m\n\u001b[0;32m--> 418\u001b[0;31m             \u001b[0;32mraise\u001b[0m \u001b[0mTypeError\u001b[0m\u001b[0;34m(\u001b[0m\u001b[0;34m\"no numeric data to plot\"\u001b[0m\u001b[0;34m)\u001b[0m\u001b[0;34m\u001b[0m\u001b[0;34m\u001b[0m\u001b[0m\n\u001b[0m\u001b[1;32m    419\u001b[0m \u001b[0;34m\u001b[0m\u001b[0m\n\u001b[1;32m    420\u001b[0m         \u001b[0;31m# GH25587: cast ExtensionArray of pandas (IntegerArray, etc.) to\u001b[0m\u001b[0;34m\u001b[0m\u001b[0;34m\u001b[0m\u001b[0;34m\u001b[0m\u001b[0m\n",
            "\u001b[0;31mTypeError\u001b[0m: no numeric data to plot"
          ]
        }
      ]
    },
    {
      "cell_type": "markdown",
      "metadata": {
        "id": "Rc8yYDTBhbqU"
      },
      "source": [
        "THINGS LEFT TO DO\n",
        "1. Extract select data from the csv file - countries only in Aust. & Oceania Region"
      ]
    },
    {
      "cell_type": "code",
      "metadata": {
        "id": "nQfe7NvnfaTH"
      },
      "source": [
        ""
      ],
      "execution_count": null,
      "outputs": []
    }
  ]
}