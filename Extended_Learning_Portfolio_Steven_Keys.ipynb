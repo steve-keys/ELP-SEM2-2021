{
  "nbformat": 4,
  "nbformat_minor": 0,
  "metadata": {
    "colab": {
      "name": "Extended_Learning_Portfolio_Steven_Keys.ipynb",
      "provenance": [],
      "authorship_tag": "ABX9TyOvdOsVOmOcSZgacRCi43T+",
      "include_colab_link": true
    },
    "kernelspec": {
      "name": "python3",
      "display_name": "Python 3"
    },
    "language_info": {
      "name": "python"
    }
  },
  "cells": [
    {
      "cell_type": "markdown",
      "metadata": {
        "id": "view-in-github",
        "colab_type": "text"
      },
      "source": [
        "<a href=\"https://colab.research.google.com/github/steve-keys/ELP-SEM2-2021/blob/main/Extended_Learning_Portfolio_Steven_Keys.ipynb\" target=\"_parent\"><img src=\"https://colab.research.google.com/assets/colab-badge.svg\" alt=\"Open In Colab\"/></a>"
      ]
    },
    {
      "cell_type": "markdown",
      "metadata": {
        "id": "4NLWWwkvyO63"
      },
      "source": [
        "QUESTION 2 \n",
        "\n",
        "A comment is an explanation or annotation in the source code of a computer program.\n",
        "Well commented functions are helpful to other programmers to understand the code\n",
        "better. The following function has no comments. Add some comments that explain the\n",
        "purpose and actions of the code in the following method"
      ]
    },
    {
      "cell_type": "code",
      "metadata": {
        "id": "KT5c5_VZyBg_"
      },
      "source": [
        "# Here we are creating a function from scratch. This function has been designed to create a specific URL relevant to a supplied search term\n",
        "\n",
        "# First we name and define the function by using the def keyword, followed by the name we will call it and the arguments or values that will be used in the function which are placed in parenthess after the function's name\n",
        "\n",
        "def get_url(search_term, template):\n",
        "\n",
        "# the name of the function is get_url\n",
        "# the values required to be input to the function are here named \"search_term\" and \"template\"\n",
        "# a colon : is placed after the function header to indicate what follows is a block of code that forms the function\n",
        "\n",
        " search_term = search_term.replace(' ', '+')\n",
        "# this line of code will replace any spaces in the search term with a '+' sign\n",
        "\n",
        " url = template.format(search_term)\n",
        " url += '&page={}'\n",
        " # these lines of code will will create and format the url in such a way that it takes the search term and adds '&page={} \n",
        " # the search term will be contained between the {} curly bracket space holders\n",
        "\n",
        " return url\n",
        " # this code assigns a value to the url variable once formated by the previous lines of code"
      ],
      "execution_count": null,
      "outputs": []
    },
    {
      "cell_type": "markdown",
      "metadata": {
        "id": "PytdwfLJ3CYp"
      },
      "source": [
        "QUESTION 3\n",
        "\n",
        "In computer programming there are three kinds of errors: syntax errors, runtime errors,\n",
        "and logic errors. The code fragment below is meant to calculate a car’s fuel economy after\n",
        "reading in the distance travelled and amount of petrol used. The fuel economy is\n",
        "calculated by the following formula: kmPerLitre = kilometers / litres. The code fragment\n",
        "contains both syntax and logic errors. Identify and correct at least five errors in the\n",
        "following code. "
      ]
    },
    {
      "cell_type": "code",
      "metadata": {
        "id": "PFfnIFOW3TQV"
      },
      "source": [
        "def efficiency(dist, gas) \n",
        " return dist/gas\n",
        "km = input (\"How far did your car travel? (In kilometers?) )\n",
        "liters = input (\"How much gas did you use? (In liters)\"\n",
        "MPG = efficiency(dist_traveled, Liters) # these variables (dist_traveled and Liters) have not been defined\n",
        "print MPG # the print command needs brackets around what is being printed - i.e. print(MPG)"
      ],
      "execution_count": null,
      "outputs": []
    },
    {
      "cell_type": "code",
      "metadata": {
        "id": "th0xp09J3if-"
      },
      "source": [
        "# ANSWER\n",
        "\n",
        "def efficiency(dist, gas): # a colon needs to be added to signify the end of the function header and the start of the block of code to follow below it\n",
        "  dist = input(\"How far did your car travel? (In kilometers?)\") # this line needs to be indented with no space between input and the brackets and closed quote marks \" need to be added after the input prompt phrase \n",
        "  # dist has not been defined so we will replace km with dist\n",
        "  gas = input(\"How much gas did you use? (In liters)\") # this line needs to indented with no space between input and the following brackets and a closed bracket ) needs to be added after the end of the input prompt phrase\n",
        "\n",
        "# dist has not been defined \n",
        "# gas has not been defined \n",
        "# no proper arithmetic has been performed\n",
        "# the variables from the input prompts need to be converted to integers\n",
        "\n",
        "# return dist/gas\n",
        "\n",
        "# MPG = efficiency(dist_traveled, Liters) # litres is spelt with a capitol \"L\" but defined earlier with a lower case \"l\"\n",
        "# print MPG"
      ],
      "execution_count": null,
      "outputs": []
    },
    {
      "cell_type": "code",
      "metadata": {
        "id": "XweH-aJy_sBV",
        "colab": {
          "base_uri": "https://localhost:8080/"
        },
        "outputId": "7e56ce99-ce8a-4d43-e7ce-e14b2eecd218"
      },
      "source": [
        "km = input(\"How far did your car travel? (In kilometers?)\")\n",
        "liters = input (\"How much gas did you use? (In liters)\")\n",
        "\n",
        "dist = int(km)\n",
        "gas = int(liters)\n",
        "MPG = dist/gas\n",
        "print(MPG)"
      ],
      "execution_count": 14,
      "outputs": [
        {
          "output_type": "stream",
          "name": "stdout",
          "text": [
            "How far did your car travel? (In kilometers?)100\n",
            "How much gas did you use? (In liters)20\n",
            "5.0\n"
          ]
        }
      ]
    },
    {
      "cell_type": "code",
      "metadata": {
        "id": "bmXPU3cODx65"
      },
      "source": [
        "def efficiency(dist, gas):\n",
        "  km = input(\"How far did your car travel? (In kilometers?)\")\n",
        "  liters = input (\"How much gas did you use? (In liters)\")\n",
        "\n",
        "  dist = int(km)\n",
        "  gas = int(liters)\n",
        "  MPG = dist/gas\n",
        "  return MPG"
      ],
      "execution_count": 15,
      "outputs": []
    },
    {
      "cell_type": "code",
      "metadata": {
        "colab": {
          "base_uri": "https://localhost:8080/"
        },
        "id": "4rs7QFnmEKT5",
        "outputId": "2b24fbe4-974f-4430-aa34-9a488b55218c"
      },
      "source": [
        "efficiency(dist, gas)"
      ],
      "execution_count": 16,
      "outputs": [
        {
          "name": "stdout",
          "output_type": "stream",
          "text": [
            "How far did your car travel? (In kilometers?)100\n",
            "How much gas did you use? (In liters)12\n"
          ]
        },
        {
          "output_type": "execute_result",
          "data": {
            "text/plain": [
              "8.333333333333334"
            ]
          },
          "metadata": {},
          "execution_count": 16
        }
      ]
    },
    {
      "cell_type": "markdown",
      "metadata": {
        "id": "VpNgWUWOGEYq"
      },
      "source": [
        "QUESTION 4\n",
        "\n",
        "Write a program the reads in sales.csv and calculates the maximum, minimum and average\n",
        "profit for each country in the Australia and Oceania region. For each country in the\n",
        "Australia and Oceania region the plot their total profit. (Hint: read the CSV into a Pandas\n",
        "dataframe, create a new dataframe for the region, and use the new dataframe for the\n",
        "calculations and bar chart)"
      ]
    },
    {
      "cell_type": "markdown",
      "metadata": {
        "id": "tlRbj9NSLRbT"
      },
      "source": [
        "The problem solving steps will be:\n",
        "1. **Define the inputs**\n",
        "   * read the sales figures from the Sales CSV file - max, min, avge profit\n",
        "2. **Perform arithmetic**\n",
        "  * calculate the maximum, minimum and average profit for each country in the Australia and Oceania region\n",
        "\n",
        "3. **Display the outputs**\n",
        "  * print the maximum, minimum and average profit for each country in the Australia and Oceania region\n",
        "  * create and display a graph that plots the total profit for each country"
      ]
    },
    {
      "cell_type": "markdown",
      "metadata": {
        "id": "01opTMQNQAJ9"
      },
      "source": [
        "# First we install the packages and import the libraries we will need"
      ]
    },
    {
      "cell_type": "code",
      "metadata": {
        "colab": {
          "base_uri": "https://localhost:8080/"
        },
        "id": "C3m6x23WCU8-",
        "outputId": "b9092306-c011-408e-bece-faf36fc7168c"
      },
      "source": [
        "pip install pandas-datareader"
      ],
      "execution_count": 22,
      "outputs": [
        {
          "output_type": "stream",
          "name": "stdout",
          "text": [
            "Requirement already satisfied: pandas-datareader in /usr/local/lib/python3.7/dist-packages (0.9.0)\n",
            "Requirement already satisfied: requests>=2.19.0 in /usr/local/lib/python3.7/dist-packages (from pandas-datareader) (2.23.0)\n",
            "Requirement already satisfied: pandas>=0.23 in /usr/local/lib/python3.7/dist-packages (from pandas-datareader) (1.1.5)\n",
            "Requirement already satisfied: lxml in /usr/local/lib/python3.7/dist-packages (from pandas-datareader) (4.2.6)\n",
            "Requirement already satisfied: numpy>=1.15.4 in /usr/local/lib/python3.7/dist-packages (from pandas>=0.23->pandas-datareader) (1.19.5)\n",
            "Requirement already satisfied: pytz>=2017.2 in /usr/local/lib/python3.7/dist-packages (from pandas>=0.23->pandas-datareader) (2018.9)\n",
            "Requirement already satisfied: python-dateutil>=2.7.3 in /usr/local/lib/python3.7/dist-packages (from pandas>=0.23->pandas-datareader) (2.8.2)\n",
            "Requirement already satisfied: six>=1.5 in /usr/local/lib/python3.7/dist-packages (from python-dateutil>=2.7.3->pandas>=0.23->pandas-datareader) (1.15.0)\n",
            "Requirement already satisfied: urllib3!=1.25.0,!=1.25.1,<1.26,>=1.21.1 in /usr/local/lib/python3.7/dist-packages (from requests>=2.19.0->pandas-datareader) (1.24.3)\n",
            "Requirement already satisfied: chardet<4,>=3.0.2 in /usr/local/lib/python3.7/dist-packages (from requests>=2.19.0->pandas-datareader) (3.0.4)\n",
            "Requirement already satisfied: certifi>=2017.4.17 in /usr/local/lib/python3.7/dist-packages (from requests>=2.19.0->pandas-datareader) (2021.10.8)\n",
            "Requirement already satisfied: idna<3,>=2.5 in /usr/local/lib/python3.7/dist-packages (from requests>=2.19.0->pandas-datareader) (2.10)\n"
          ]
        }
      ]
    },
    {
      "cell_type": "code",
      "metadata": {
        "id": "65AKEsMMj7l2"
      },
      "source": [
        "import pandas as pd\n",
        "import matplotlib.pyplot as plt\n",
        "from pandas_datareader import data as pdr"
      ],
      "execution_count": 21,
      "outputs": []
    },
    {
      "cell_type": "code",
      "metadata": {
        "colab": {
          "base_uri": "https://localhost:8080/"
        },
        "id": "NeT59vUoQNpY",
        "outputId": "725fda9a-0c18-48a4-ea0b-22253beb3252"
      },
      "source": [
        "# next we need to provide a path for pandas to locate and read the CSV file. This is done by uploading our salescsv file into our Colab files directory at left, then use the kebab menu to copy the file path, and past that into the code as the filename\n",
        "\n",
        "filename = '/content/sales.csv'\n",
        "\n",
        "# this next function will now open the sales.csv file and read the lines from it\n",
        "lines = []\n",
        "with open(filename, 'r') as f:\n",
        "  for the_line in f:\n",
        "    lines.append(the_line)\n",
        "# and we can print out line by line to examine each line if we want to\n",
        "print(lines[0])\n",
        "print(lines[1])"
      ],
      "execution_count": 25,
      "outputs": [
        {
          "output_type": "stream",
          "name": "stdout",
          "text": [
            "Region,Country,Item Type,Sales Channel,Order Priority,Order Date,Order ID,Ship Date,Units Sold,Unit Price,Unit Cost,Total Revenue,Total Cost,Total Profit\n",
            "\n",
            "Australia and Oceania,Tuvalu,Baby Food,Offline,H,5/28/2010,669165933,6/27/2010,9925,255.28,159.42,2533654.00,1582243.50,951410.50\n",
            "\n"
          ]
        }
      ]
    },
    {
      "cell_type": "code",
      "metadata": {
        "colab": {
          "base_uri": "https://localhost:8080/"
        },
        "id": "mTlW1jr4Tdu_",
        "outputId": "c85fc2b9-e6cd-44b4-b9d0-0553de8e15e6"
      },
      "source": [
        "# we can also manipulate and print a row, for example by splitting it on a comma..\n",
        "\n",
        "row = lines[1].split(',')\n",
        "print(row)"
      ],
      "execution_count": 26,
      "outputs": [
        {
          "output_type": "stream",
          "name": "stdout",
          "text": [
            "['Australia and Oceania', 'Tuvalu', 'Baby Food', 'Offline', 'H', '5/28/2010', '669165933', '6/27/2010', '9925', '255.28', '159.42', '2533654.00', '1582243.50', '951410.50\\n']\n"
          ]
        }
      ]
    },
    {
      "cell_type": "code",
      "metadata": {
        "id": "4n9SHDkgVtPJ"
      },
      "source": [
        "# we need to import the csv module\n",
        "import csv"
      ],
      "execution_count": 27,
      "outputs": []
    },
    {
      "cell_type": "code",
      "metadata": {
        "id": "BiVNb7bdWVv7"
      },
      "source": [
        ""
      ],
      "execution_count": null,
      "outputs": []
    }
  ]
}