{
  "nbformat": 4,
  "nbformat_minor": 0,
  "metadata": {
    "colab": {
      "name": "ELP Sandbox.ipynb",
      "provenance": [],
      "authorship_tag": "ABX9TyN4PuO2FvsGGKlLZf6hXCmi",
      "include_colab_link": true
    },
    "kernelspec": {
      "name": "python3",
      "display_name": "Python 3"
    },
    "language_info": {
      "name": "python"
    }
  },
  "cells": [
    {
      "cell_type": "markdown",
      "metadata": {
        "id": "view-in-github",
        "colab_type": "text"
      },
      "source": [
        "<a href=\"https://colab.research.google.com/github/steve-keys/ELP-SEM2-2021/blob/main/ELP_Sandbox.ipynb\" target=\"_parent\"><img src=\"https://colab.research.google.com/assets/colab-badge.svg\" alt=\"Open In Colab\"/></a>"
      ]
    },
    {
      "cell_type": "code",
      "metadata": {
        "colab": {
          "base_uri": "https://localhost:8080/"
        },
        "id": "Nyhd9dAs5dGT",
        "outputId": "fa8f7aec-4173-447e-80d2-2aa427af63de"
      },
      "source": [
        "km = input (\"How far did your car travel? (In kilometers?)\")"
      ],
      "execution_count": 3,
      "outputs": [
        {
          "name": "stdout",
          "output_type": "stream",
          "text": [
            "How far did your car travel? (In kilometers?)10\n"
          ]
        }
      ]
    },
    {
      "cell_type": "code",
      "metadata": {
        "colab": {
          "base_uri": "https://localhost:8080/"
        },
        "id": "QJx1osAz5gfs",
        "outputId": "42b8eaaa-039a-475d-ab99-10be0f2e62a8"
      },
      "source": [
        "km = input(\"How far did your car travel? (In kilometers?)\")"
      ],
      "execution_count": 7,
      "outputs": [
        {
          "name": "stdout",
          "output_type": "stream",
          "text": [
            "How far did your car travel? (In kilometers?)10\n"
          ]
        }
      ]
    },
    {
      "cell_type": "code",
      "metadata": {
        "colab": {
          "base_uri": "https://localhost:8080/"
        },
        "id": "vax5I2Ci6SPK",
        "outputId": "e1a97dc5-6e10-46dd-deb7-24aaa434fb0a"
      },
      "source": [
        "liters = input (\"How much gas did you use? (In liters)\")"
      ],
      "execution_count": 6,
      "outputs": [
        {
          "name": "stdout",
          "output_type": "stream",
          "text": [
            "How much gas did you use? (In liters)15\n"
          ]
        }
      ]
    },
    {
      "cell_type": "code",
      "metadata": {
        "colab": {
          "base_uri": "https://localhost:8080/",
          "height": 129
        },
        "id": "bv40Wct16zqC",
        "outputId": "1abebe50-396d-4c43-91a9-492dd199492d"
      },
      "source": [
        "def efficiency(dist, gas): \n",
        "\n",
        "  km = input(\"How far did your car travel? (In kilometers?)\")\n",
        "  liters = input (\"How much gas did you use? (In liters)\")\n",
        "\n",
        "  dist = int(km)\n",
        "  gas = int(liters)\n",
        "\n",
        "  return = dist/gas\n",
        "\n",
        "  \n",
        "  efficiency"
      ],
      "execution_count": 5,
      "outputs": [
        {
          "output_type": "error",
          "ename": "SyntaxError",
          "evalue": "ignored",
          "traceback": [
            "\u001b[0;36m  File \u001b[0;32m\"<ipython-input-5-9cecd34d99e1>\"\u001b[0;36m, line \u001b[0;32m9\u001b[0m\n\u001b[0;31m    return = dist/gas\u001b[0m\n\u001b[0m           ^\u001b[0m\n\u001b[0;31mSyntaxError\u001b[0m\u001b[0;31m:\u001b[0m invalid syntax\n"
          ]
        }
      ]
    },
    {
      "cell_type": "code",
      "metadata": {
        "id": "XweH-aJy_sBV"
      },
      "source": [
        "km = input(\"How far did your car travel? (In kilometers?)\")\n",
        "liters = input (\"How much gas did you use? (In liters)\")\n",
        "\n",
        "dist = int(km)\n",
        "gas = int(liters)\n",
        "MPG = dist/gas\n",
        "print(MPG)"
      ],
      "execution_count": null,
      "outputs": []
    },
    {
      "cell_type": "code",
      "metadata": {
        "id": "C3m6x23WCU8-"
      },
      "source": [
        ""
      ],
      "execution_count": null,
      "outputs": []
    }
  ]
}